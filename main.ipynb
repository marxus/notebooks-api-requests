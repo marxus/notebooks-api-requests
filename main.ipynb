{
 "cells": [
  {
   "cell_type": "markdown",
   "metadata": {},
   "source": [
    "# Understanding (Web) API (Application Programming Interface)\n",
    "*use case: Twilio using cURL and Python*\n",
    "\n",
    "### first thing first: cURL\n",
    "cURL is a command line (cli) tool (program) for making network requests, similiar to a browser, but in the command line (cli)\n",
    "\n",
    "basic usage example: \n",
    "```\n",
    "curl https://example.com\n",
    "```\n",
    "\n",
    "send SMS via Twilio using cURL:\n",
    "```\n",
    "linux:\n",
    "curl -X POST https://api.twilio.com/2010-04-01/Accounts/AC0fe0df9504d793ccf662810def4cff6c/Messages.json \\\n",
    "    --data-urlencode \"Body=שוב שלום עולם\" \\\n",
    "    --data-urlencode \"From=+15176180357\" \\\n",
    "    --data-urlencode \"To=+972546734595\" \\\n",
    "    -u AC0fe0df9504d793ccf662810def4cff6c:e0e7876f3f1a45b9ea844167bbc94c52\n",
    "\n",
    "windows:\n",
    "curl -X POST https://api.twilio.com/2010-04-01/Accounts/AC0fe0df9504d793ccf662810def4cff6c/Messages.json ^\n",
    "    --data-urlencode \"Body=שוב שלום עולם\" ^\n",
    "    --data-urlencode \"From=+15176180357\" ^\n",
    "    --data-urlencode \"To=+972546734595\" ^\n",
    "    -u AC0fe0df9504d793ccf662810def4cff6c:e0e7876f3f1a45b9ea844167bbc94c52\n",
    "```\n",
    "\n",
    "---\n",
    "\n",
    "### 2nd stage: Python `requests` lib\n",
    "and now lets do the same with Python:"
   ]
  },
  {
   "cell_type": "code",
   "execution_count": null,
   "metadata": {},
   "outputs": [],
   "source": [
    "from random import randrange\n",
    "\n",
    "# lets generate a random number between 0 and 9999, why? for fun. (aren't you having fun?)\n",
    "number = randrange(10000)\n",
    "print(f'random number: {number}')\n",
    "\n",
    "# lets compose a message to be sent to Amit... so much fun. he's going to get a lot of SMS Spam with your random numbers\n",
    "message = f'Hello! here is a random number: {number}'\n",
    "print(f'message: \"{message}\"')"
   ]
  },
  {
   "cell_type": "code",
   "execution_count": null,
   "metadata": {},
   "outputs": [],
   "source": [
    "import requests\n",
    "\n",
    "def send_message(account_sid, auth_token, data):\n",
    "    # we will use a library (lib) called 'Requests: HTTP for Humans™' https://requests.readthedocs.io/\n",
    "    # rsp = short for 'response',  another common  variable convention could be 'res = ...'\n",
    "    endpoint_url = f'https://api.twilio.com/2010-04-01/Accounts/{account_sid}/Messages.json'\n",
    "    rsp = requests.post(endpoint_url, data, auth=(account_sid, auth_token))\n",
    "    return rsp\n",
    "\n",
    "# now lets send the message to Amit\n",
    "# twilio account id and token (\"user\" & \"password\")\n",
    "# api doc: https://www.twilio.com/docs/usage/api\n",
    "account_sid = 'AC0fe0df9504d793ccf662810def4cff6c'\n",
    "auth_token = 'e0e7876f3f1a45b9ea844167bbc94c52'\n",
    "phone_number = '+15176180357'\n",
    "\n",
    "data = {\n",
    "    'Body': message,\n",
    "    'From': phone_number,\n",
    "    'To': '+972546734595'\n",
    "}\n",
    "\n",
    "rsp = send_message(account_sid, auth_token, data)\n",
    "\n",
    "print(f'status_code: {rsp.status_code}')\n",
    "print(f'content: {rsp.content}')"
   ]
  },
  {
   "cell_type": "markdown",
   "metadata": {},
   "source": [
    "***what will happen if I change the phone number and try again?***\n",
    "\n",
    "---\n",
    "\n",
    "### 3rd stage: using Twilio API library"
   ]
  },
  {
   "cell_type": "code",
   "execution_count": null,
   "metadata": {},
   "outputs": [],
   "source": [
    "from random import randrange\n",
    "\n",
    "# lets compose another message\n",
    "message = f'whatssssappp, take a number: {randrange(10000)}'\n",
    "print(f'message: \"{message}\"')"
   ]
  },
  {
   "cell_type": "code",
   "execution_count": null,
   "metadata": {},
   "outputs": [],
   "source": [
    "from twilio.rest import Client\n",
    "\n",
    "account_sid = 'AC0fe0df9504d793ccf662810def4cff6c'\n",
    "auth_token = 'e0e7876f3f1a45b9ea844167bbc94c52'\n",
    "phone_number = '+15176180357'\n",
    "\n",
    "client = Client(account_sid, auth_token)\n",
    "\n",
    "message = client.messages.create(\n",
    "    body=message,\n",
    "    from_=phone_number,\n",
    "    to='+972546734595'\n",
    ")\n",
    "\n",
    "print(f'message id: {message.sid}')"
   ]
  }
 ],
 "metadata": {
  "kernelspec": {
   "display_name": "api-requests",
   "language": "python",
   "name": "api-requests"
  },
  "language_info": {
   "codemirror_mode": {
    "name": "ipython",
    "version": 3
   },
   "file_extension": ".py",
   "mimetype": "text/x-python",
   "name": "python",
   "nbconvert_exporter": "python",
   "pygments_lexer": "ipython3",
   "version": "3.8.5"
  }
 },
 "nbformat": 4,
 "nbformat_minor": 4
}
